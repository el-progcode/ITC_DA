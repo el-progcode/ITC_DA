{
 "cells": [
  {
   "cell_type": "code",
   "execution_count": 1,
   "metadata": {},
   "outputs": [
    {
     "name": "stdout",
     "output_type": "stream",
     "text": [
      "shifana Rifath\n"
     ]
    }
   ],
   "source": [
    "def saranathan():\n",
    "    print(\"shifana Rifath\")\n",
    "saranathan()"
   ]
  },
  {
   "cell_type": "code",
   "execution_count": 3,
   "metadata": {},
   "outputs": [
    {
     "name": "stdout",
     "output_type": "stream",
     "text": [
      "hellohi\n"
     ]
    }
   ],
   "source": [
    "def addst():\n",
    "    str1=\"hello\"\n",
    "    str2= \"hi\"\n",
    "    str3= str1+str2\n",
    "    print(str3)\n",
    "addst()"
   ]
  },
  {
   "cell_type": "markdown",
   "metadata": {},
   "source": [
    "func with arguments"
   ]
  },
  {
   "cell_type": "code",
   "execution_count": 5,
   "metadata": {},
   "outputs": [
    {
     "name": "stdout",
     "output_type": "stream",
     "text": [
      "shifana  rifath\n"
     ]
    }
   ],
   "source": [
    "def saranathan(name):\n",
    "    print(\"shifana \",name)\n",
    "saranathan(\"rifath\")"
   ]
  },
  {
   "cell_type": "markdown",
   "metadata": {},
   "source": [
    "func with arguments and default values"
   ]
  },
  {
   "cell_type": "code",
   "execution_count": 10,
   "metadata": {},
   "outputs": [
    {
     "name": "stdout",
     "output_type": "stream",
     "text": [
      "shifana  tantan\n"
     ]
    }
   ],
   "source": [
    "def saranathan(name=\"student\"):\n",
    "    print(\"shifana \",name)\n",
    "saranathan(\"tantan\")"
   ]
  },
  {
   "cell_type": "code",
   "execution_count": 12,
   "metadata": {},
   "outputs": [
    {
     "name": "stdout",
     "output_type": "stream",
     "text": [
      "shifana  student\n"
     ]
    }
   ],
   "source": [
    "def saranathan(name=\"student\"):\n",
    "    print(\"shifana \",name)\n",
    "saranathan()"
   ]
  },
  {
   "cell_type": "markdown",
   "metadata": {},
   "source": [
    "func with keyword arguments"
   ]
  },
  {
   "cell_type": "code",
   "execution_count": 14,
   "metadata": {},
   "outputs": [
    {
     "name": "stdout",
     "output_type": "stream",
     "text": [
      "welcome sfifana ECE\n"
     ]
    }
   ],
   "source": [
    "def saranathan(name=\"sfifana\",dept=\"ECE\"):\n",
    "\n",
    "     print(\"welcome\", name, dept)\n",
    "saranathan()\n",
    "\n"
   ]
  },
  {
   "cell_type": "code",
   "execution_count": 15,
   "metadata": {},
   "outputs": [
    {
     "name": "stdout",
     "output_type": "stream",
     "text": [
      "welcome sfifana ECE\n"
     ]
    }
   ],
   "source": [
    "saranathan(name=\"sfifana\",dept=\"ECE\")"
   ]
  },
  {
   "cell_type": "markdown",
   "metadata": {},
   "source": [
    "even if order is changed o/p same --- advantage of keywrd argmntd"
   ]
  },
  {
   "cell_type": "code",
   "execution_count": 17,
   "metadata": {},
   "outputs": [
    {
     "name": "stdout",
     "output_type": "stream",
     "text": [
      "welcome sfifana ECE\n"
     ]
    }
   ],
   "source": [
    "saranathan(dept=\"ECE\",name=\"sfifana\")"
   ]
  },
  {
   "cell_type": "markdown",
   "metadata": {},
   "source": [
    "variable length arguments"
   ]
  },
  {
   "cell_type": "code",
   "execution_count": 18,
   "metadata": {},
   "outputs": [
    {
     "name": "stdout",
     "output_type": "stream",
     "text": [
      "hello\n",
      "welcome\n",
      "home\n"
     ]
    }
   ],
   "source": [
    "def myfun(*argv):\n",
    "  for arg in argv:\n",
    "    print(arg)\n",
    "myfun('hello','welcome','home')"
   ]
  },
  {
   "cell_type": "code",
   "execution_count": 21,
   "metadata": {},
   "outputs": [
    {
     "name": "stdout",
     "output_type": "stream",
     "text": [
      "hello\n",
      "welcome\n",
      "home\n"
     ]
    }
   ],
   "source": [
    "def myfun(*subs):\n",
    "  for sub in subs:\n",
    "    print(sub)\n",
    "myfun('hello','welcome','home')"
   ]
  },
  {
   "cell_type": "markdown",
   "metadata": {},
   "source": [
    "variable length keyword arguments\n"
   ]
  },
  {
   "cell_type": "code",
   "execution_count": 22,
   "metadata": {},
   "outputs": [
    {
     "name": "stdout",
     "output_type": "stream",
     "text": [
      "first==hello\n",
      "mid==salut\n",
      "last==hola\n"
     ]
    }
   ],
   "source": [
    "def myfun(**kwargs):\n",
    "    for key, value in kwargs.items():\n",
    "        print(\"%s==%s\"%(key, value))\n",
    "myfun(first='hello',mid='salut',last='hola')"
   ]
  },
  {
   "cell_type": "markdown",
   "metadata": {},
   "source": [
    "call by refernce--value can be changed-- mutable"
   ]
  },
  {
   "cell_type": "code",
   "execution_count": null,
   "metadata": {},
   "outputs": [],
   "source": [
    "def add_more(mylist):\n",
    "    mylist.append(50)"
   ]
  },
  {
   "cell_type": "markdown",
   "metadata": {},
   "source": [
    "Binary operators-- complex addision"
   ]
  },
  {
   "cell_type": "code",
   "execution_count": 23,
   "metadata": {},
   "outputs": [
    {
     "data": {
      "text/plain": [
       "['__add__',\n",
       " '__class__',\n",
       " '__class_getitem__',\n",
       " '__contains__',\n",
       " '__delattr__',\n",
       " '__delitem__',\n",
       " '__dir__',\n",
       " '__doc__',\n",
       " '__eq__',\n",
       " '__format__',\n",
       " '__ge__',\n",
       " '__getattribute__',\n",
       " '__getitem__',\n",
       " '__gt__',\n",
       " '__hash__',\n",
       " '__iadd__',\n",
       " '__imul__',\n",
       " '__init__',\n",
       " '__init_subclass__',\n",
       " '__iter__',\n",
       " '__le__',\n",
       " '__len__',\n",
       " '__lt__',\n",
       " '__mul__',\n",
       " '__ne__',\n",
       " '__new__',\n",
       " '__reduce__',\n",
       " '__reduce_ex__',\n",
       " '__repr__',\n",
       " '__reversed__',\n",
       " '__rmul__',\n",
       " '__setattr__',\n",
       " '__setitem__',\n",
       " '__sizeof__',\n",
       " '__str__',\n",
       " '__subclasshook__',\n",
       " 'append',\n",
       " 'clear',\n",
       " 'copy',\n",
       " 'count',\n",
       " 'extend',\n",
       " 'index',\n",
       " 'insert',\n",
       " 'pop',\n",
       " 'remove',\n",
       " 'reverse',\n",
       " 'sort']"
      ]
     },
     "execution_count": 23,
     "metadata": {},
     "output_type": "execute_result"
    }
   ],
   "source": [
    "dir(list)"
   ]
  },
  {
   "cell_type": "code",
   "execution_count": 24,
   "metadata": {},
   "outputs": [
    {
     "name": "stdout",
     "output_type": "stream",
     "text": [
      "(44,34)\n"
     ]
    }
   ],
   "source": [
    "class complex_1:\n",
    "    def __init__(self,X,Y):\n",
    "      self.X=X\n",
    "      self.Y=Y\n",
    "    def __add__(self, U):\n",
    "      return complex_1(self.X + U.X, self.Y + U.Y)\n",
    "    def __str__(self):\n",
    "       return f\"({self.X},{self.Y})\"\n",
    "object_1=complex_1(23,12)\n",
    "object_2=complex_1(21,22)\n",
    "object_3=object_1+object_2\n",
    "print(object_3)\n",
    "\n",
    "\n",
    "         \n"
   ]
  },
  {
   "cell_type": "markdown",
   "metadata": {},
   "source": [
    "comparison operator"
   ]
  },
  {
   "cell_type": "code",
   "execution_count": 27,
   "metadata": {},
   "outputs": [
    {
     "name": "stdout",
     "output_type": "stream",
     "text": [
      "True\n"
     ]
    }
   ],
   "source": [
    "class example:\n",
    "    def __init__(self,a):\n",
    "        self.a = a\n",
    "    def __gt__(self,other):\n",
    "        return self.a> other.a\n",
    "obj1= example(1)\n",
    "obj2= example(2)\n",
    "print(obj2 > obj1)\n",
    "\n",
    "\n"
   ]
  },
  {
   "cell_type": "code",
   "execution_count": 28,
   "metadata": {},
   "outputs": [
    {
     "ename": "SyntaxError",
     "evalue": "invalid syntax (955757298.py, line 7)",
     "output_type": "error",
     "traceback": [
      "\u001b[1;36m  Cell \u001b[1;32mIn[28], line 7\u001b[1;36m\u001b[0m\n\u001b[1;33m    def __neg\u001b[0m\n\u001b[1;37m             ^\u001b[0m\n\u001b[1;31mSyntaxError\u001b[0m\u001b[1;31m:\u001b[0m invalid syntax\n"
     ]
    }
   ],
   "source": [
    "class vector: \n",
    "   def __init__(self,X,Y):\n",
    "    self.X=X\n",
    "    self.Y=Y\n",
    "   def __str__(self):\n",
    "     return\"({0},{1})\".format(self.X,self.Y)\n",
    "   def __neg__(self.a,self.b)"
   ]
  },
  {
   "cell_type": "code",
   "execution_count": 29,
   "metadata": {},
   "outputs": [
    {
     "name": "stdout",
     "output_type": "stream",
     "text": [
      "name is shifana Rifath\n"
     ]
    }
   ],
   "source": [
    "def fun(name):\n",
    "    print(\"name is\",name)\n",
    "fun(\"shifana Rifath\")\n",
    "    "
   ]
  },
  {
   "cell_type": "markdown",
   "metadata": {},
   "source": [
    "classes with constructor"
   ]
  },
  {
   "cell_type": "code",
   "execution_count": 30,
   "metadata": {},
   "outputs": [
    {
     "name": "stdout",
     "output_type": "stream",
     "text": [
      "arun\n",
      "26\n"
     ]
    }
   ],
   "source": [
    "class Person:\n",
    "    def __init__(self, name, age):\n",
    "        self.name = name\n",
    "        self.age = age\n",
    "p1= Person(\"arun\", 26 )\n",
    "\n",
    "print(p1.name)\n",
    "print(p1.age)"
   ]
  },
  {
   "cell_type": "code",
   "execution_count": 33,
   "metadata": {},
   "outputs": [
    {
     "name": "stdout",
     "output_type": "stream",
     "text": [
      "arun\n",
      "26\n"
     ]
    }
   ],
   "source": [
    "class Person:\n",
    "    def __init__(self, name, age):\n",
    "        self.name = name\n",
    "        self.age = age\n",
    "    def __str__(self, name,age):\n",
    "        return(self.name)\n",
    "p1= Person(\"arun\", 26 )\n",
    "\n",
    "print(p1.name)\n",
    "print(p1.age)"
   ]
  },
  {
   "cell_type": "markdown",
   "metadata": {},
   "source": [
    "class with constructor\n"
   ]
  },
  {
   "cell_type": "code",
   "execution_count": 37,
   "metadata": {},
   "outputs": [
    {
     "name": "stdout",
     "output_type": "stream",
     "text": [
      "hello,my name is arun\n"
     ]
    }
   ],
   "source": [
    "class Person:\n",
    "    def __init__(self, name, age):\n",
    "        self.name = name\n",
    "        self.age = age\n",
    "    def myfun(self):\n",
    "        print(\"hello,my name is \" +self.name)\n",
    "p1 = Person(\"arun\",27)\n",
    "p1.myfun()"
   ]
  },
  {
   "cell_type": "code",
   "execution_count": 38,
   "metadata": {},
   "outputs": [
    {
     "name": "stdout",
     "output_type": "stream",
     "text": [
      "arun\n"
     ]
    }
   ],
   "source": [
    "class Person:\n",
    "    def __init__(self, name, age):\n",
    "        self.name = name\n",
    "        self.age = age\n",
    "    def __str__(self):\n",
    "        return self.name\n",
    "p1 = Person(\"arun\",20)\n",
    "print(p1)"
   ]
  },
  {
   "cell_type": "markdown",
   "metadata": {},
   "source": [
    "modify object properties"
   ]
  },
  {
   "cell_type": "code",
   "execution_count": 40,
   "metadata": {},
   "outputs": [
    {
     "name": "stdout",
     "output_type": "stream",
     "text": [
      "hello my name is arun and my age is 20\n",
      "('hello my name is arun', 'and my age is', 20)\n"
     ]
    }
   ],
   "source": [
    "class Person:\n",
    "    def __init__(self, name, age):\n",
    "        self.name = name\n",
    "        self.age = age\n",
    "    def myfunc(self):\n",
    "        print(\"hello my name is \"+self.name,\"and my age is\",self.age)\n",
    "        return(\"hello my name is \"+self.name,\"and my age is\",self.age)\n",
    "p1 = Person(\"arun\",20)\n",
    "print(p1.myfunc())\n",
    "del p1.age"
   ]
  },
  {
   "cell_type": "code",
   "execution_count": null,
   "metadata": {},
   "outputs": [],
   "source": []
  }
 ],
 "metadata": {
  "kernelspec": {
   "display_name": "venv",
   "language": "python",
   "name": "python3"
  },
  "language_info": {
   "codemirror_mode": {
    "name": "ipython",
    "version": 3
   },
   "file_extension": ".py",
   "mimetype": "text/x-python",
   "name": "python",
   "nbconvert_exporter": "python",
   "pygments_lexer": "ipython3",
   "version": "3.9.6"
  }
 },
 "nbformat": 4,
 "nbformat_minor": 2
}
