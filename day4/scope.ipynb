{
 "cells": [
  {
   "cell_type": "code",
   "execution_count": 3,
   "metadata": {},
   "outputs": [
    {
     "name": "stdout",
     "output_type": "stream",
     "text": [
      "the number is: 1\n"
     ]
    }
   ],
   "source": [
    "num=0\n",
    "def demo():\n",
    "    num=1\n",
    "    print(\"the number is:\",num)\n",
    "demo()\n"
   ]
  },
  {
   "cell_type": "markdown",
   "metadata": {},
   "source": [
    "global variable"
   ]
  },
  {
   "cell_type": "code",
   "execution_count": 4,
   "metadata": {},
   "outputs": [
    {
     "name": "stdout",
     "output_type": "stream",
     "text": [
      "you are clever\n"
     ]
    }
   ],
   "source": [
    "def demo():\n",
    "    print(Str)\n",
    "Str=\"you are clever\"\n",
    "demo()"
   ]
  },
  {
   "cell_type": "markdown",
   "metadata": {},
   "source": [
    "non local which is -- nested func-- same value"
   ]
  },
  {
   "cell_type": "code",
   "execution_count": 6,
   "metadata": {},
   "outputs": [
    {
     "name": "stdout",
     "output_type": "stream",
     "text": [
      "inner: nonlocal\n",
      "outer: nonlocal\n"
     ]
    }
   ],
   "source": [
    "def func_outer():\n",
    "    x='local'\n",
    "    def func_inner():\n",
    "        nonlocal x\n",
    "        x= \"nonlocal\"\n",
    "        print(\"inner:\",x)\n",
    "    func_inner()\n",
    "    print(\"outer:\",x)\n",
    "func_outer()"
   ]
  },
  {
   "cell_type": "markdown",
   "metadata": {},
   "source": [
    "modifying global variable from inside the func"
   ]
  },
  {
   "cell_type": "markdown",
   "metadata": {},
   "source": [
    "note: we can only access GV and not modify it"
   ]
  },
  {
   "cell_type": "code",
   "execution_count": 12,
   "metadata": {},
   "outputs": [
    {
     "ename": "UnboundLocalError",
     "evalue": "local variable 'roll_no' referenced before assignment",
     "output_type": "error",
     "traceback": [
      "\u001b[1;31m---------------------------------------------------------------------------\u001b[0m",
      "\u001b[1;31mUnboundLocalError\u001b[0m                         Traceback (most recent call last)",
      "Cell \u001b[1;32mIn[12], line 6\u001b[0m\n\u001b[0;32m      4\u001b[0m     roll_no \u001b[38;5;241m=\u001b[39m roll_no\u001b[38;5;241m+\u001b[39m\u001b[38;5;241m2\u001b[39m\n\u001b[0;32m      5\u001b[0m     \u001b[38;5;28mprint\u001b[39m(\u001b[38;5;124m'\u001b[39m\u001b[38;5;124mcorrect student roll_no:\u001b[39m\u001b[38;5;124m'\u001b[39m,roll_no)\n\u001b[1;32m----> 6\u001b[0m \u001b[43mdisplay\u001b[49m\u001b[43m(\u001b[49m\u001b[43m)\u001b[49m\n",
      "Cell \u001b[1;32mIn[12], line 4\u001b[0m, in \u001b[0;36mdisplay\u001b[1;34m()\u001b[0m\n\u001b[0;32m      3\u001b[0m \u001b[38;5;28;01mdef\u001b[39;00m \u001b[38;5;21mdisplay\u001b[39m():\n\u001b[1;32m----> 4\u001b[0m     roll_no \u001b[38;5;241m=\u001b[39m \u001b[43mroll_no\u001b[49m\u001b[38;5;241m+\u001b[39m\u001b[38;5;241m2\u001b[39m\n\u001b[0;32m      5\u001b[0m     \u001b[38;5;28mprint\u001b[39m(\u001b[38;5;124m'\u001b[39m\u001b[38;5;124mcorrect student roll_no:\u001b[39m\u001b[38;5;124m'\u001b[39m,roll_no)\n",
      "\u001b[1;31mUnboundLocalError\u001b[0m: local variable 'roll_no' referenced before assignment"
     ]
    }
   ],
   "source": [
    "stud = 'joshva'\n",
    "roll_no= 26\n",
    "def display():\n",
    "    roll_no = roll_no+2\n",
    "    print('correct student roll_no:',roll_no)\n",
    "display()"
   ]
  },
  {
   "cell_type": "code",
   "execution_count": 10,
   "metadata": {},
   "outputs": [
    {
     "name": "stdout",
     "output_type": "stream",
     "text": [
      "correct student roll_no: 28\n"
     ]
    }
   ],
   "source": [
    "stud = 'joshva'\n",
    "roll_no= 26\n",
    "def display():\n",
    "    roll_no= 26\n",
    "    roll_no = roll_no+2\n",
    "    print('correct student roll_no:',roll_no)\n",
    "display()"
   ]
  },
  {
   "cell_type": "code",
   "execution_count": 13,
   "metadata": {},
   "outputs": [
    {
     "name": "stdout",
     "output_type": "stream",
     "text": [
      "correct student roll_no: 28\n"
     ]
    }
   ],
   "source": [
    "stud = 'joshva'\n",
    "roll_no= 26\n",
    "def display():\n",
    "    global roll_no\n",
    "    roll_no = roll_no+2\n",
    "    print('correct student roll_no:',roll_no)\n",
    "display()"
   ]
  },
  {
   "cell_type": "code",
   "execution_count": 25,
   "metadata": {},
   "outputs": [
    {
     "name": "stdout",
     "output_type": "stream",
     "text": [
      "10\n",
      "20\n",
      "30\n"
     ]
    }
   ],
   "source": [
    "global_var = 10\n",
    "def outer_func():\n",
    "    outer_var = 20\n",
    "    def inner_func():\n",
    "        inner_var = 30\n",
    "        print(inner_var)\n",
    "    print(outer_var)\n",
    "    inner_func()\n",
    "print(global_var)\n",
    "outer_func()\n",
    "\n",
    "    \n"
   ]
  },
  {
   "cell_type": "code",
   "execution_count": null,
   "metadata": {},
   "outputs": [],
   "source": []
  }
 ],
 "metadata": {
  "kernelspec": {
   "display_name": "venv",
   "language": "python",
   "name": "python3"
  },
  "language_info": {
   "codemirror_mode": {
    "name": "ipython",
    "version": 3
   },
   "file_extension": ".py",
   "mimetype": "text/x-python",
   "name": "python",
   "nbconvert_exporter": "python",
   "pygments_lexer": "ipython3",
   "version": "3.9.6"
  }
 },
 "nbformat": 4,
 "nbformat_minor": 2
}
