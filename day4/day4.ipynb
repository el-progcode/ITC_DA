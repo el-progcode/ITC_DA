{
 "cells": [
  {
   "cell_type": "code",
   "execution_count": 1,
   "metadata": {},
   "outputs": [
    {
     "name": "stdout",
     "output_type": "stream",
     "text": [
      "current initial directory is: c:\\Users\\TEMP.JS-L1-28.000\\Desktop\\python training\\day4\n"
     ]
    }
   ],
   "source": [
    "import os\n",
    "print(\"current initial directory is:\", os.getcwd())\n"
   ]
  },
  {
   "cell_type": "code",
   "execution_count": 2,
   "metadata": {},
   "outputs": [
    {
     "name": "stdout",
     "output_type": "stream",
     "text": [
      "current directory change to: c:\\Users\\TEMP.JS-L1-28.000\\Desktop\\python training\\day4\n"
     ]
    }
   ],
   "source": [
    "os.chdir(\"c:/Users/TEMP.JS-L1-28.000/Desktop/python training/day4\")\n",
    "print(\"current directory change to:\", os.getcwd())"
   ]
  },
  {
   "cell_type": "code",
   "execution_count": 5,
   "metadata": {},
   "outputs": [
    {
     "name": "stdout",
     "output_type": "stream",
     "text": [
      "the files in current working directory are: ['day4.ipynb', 'Include', 'Lib', 'pyvenv.cfg', 'Scripts', 'share']\n"
     ]
    }
   ],
   "source": [
    "print(\"the files in current working directory are:\",os.listdir(os.getcwd()))"
   ]
  },
  {
   "cell_type": "code",
   "execution_count": 4,
   "metadata": {},
   "outputs": [],
   "source": [
    "Dir_name=\"welcome\"\n",
    "path=\"c:/Users/TEMP.JS-L1-28.000/Desktop/python training/day4\""
   ]
  },
  {
   "cell_type": "code",
   "execution_count": 5,
   "metadata": {},
   "outputs": [],
   "source": [
    "new_path=os.path.join(path,Dir_name)\n",
    "os.mkdir(new_path)"
   ]
  },
  {
   "cell_type": "code",
   "execution_count": 6,
   "metadata": {},
   "outputs": [],
   "source": [
    "os.rename('welcome','welcome1')\n"
   ]
  },
  {
   "cell_type": "code",
   "execution_count": null,
   "metadata": {},
   "outputs": [],
   "source": []
  }
 ],
 "metadata": {
  "kernelspec": {
   "display_name": "venv",
   "language": "python",
   "name": "python3"
  },
  "language_info": {
   "codemirror_mode": {
    "name": "ipython",
    "version": 3
   },
   "file_extension": ".py",
   "mimetype": "text/x-python",
   "name": "python",
   "nbconvert_exporter": "python",
   "pygments_lexer": "ipython3",
   "version": "3.9.6"
  }
 },
 "nbformat": 4,
 "nbformat_minor": 2
}
